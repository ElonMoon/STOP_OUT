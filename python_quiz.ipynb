{
 "cells": [
  {
   "cell_type": "markdown",
   "metadata": {},
   "source": [
    "### 파이썬\n",
    "\n",
    "### 1. 다음 리스트를 사용해 아래와 같은 문자열을 만들어 'girlsday_info' 변수에 할당한 후, 콘솔에 내용을 출력하시오."
   ]
  },
  {
   "cell_type": "code",
   "execution_count": 2,
   "metadata": {},
   "outputs": [
    {
     "name": "stdout",
     "output_type": "stream",
     "text": [
      "- 민아\n",
      "- 혜리\n",
      "- 유라\n",
      "- 소진\n"
     ]
    }
   ],
   "source": [
    "girlsday_members = ['민아', '혜리', '유라', '소진']\n",
    "\n",
    "def print_girlsday(girlsday_members):\n",
    "    for member in girlsday_members:\n",
    "        print(f'- {member}')\n",
    "        \n",
    "print_girlsday(girlsday_members)"
   ]
  },
  {
   "cell_type": "markdown",
   "metadata": {},
   "source": [
    "### 2. 'fruit_dict'객체를 사용해서 아래와 같은 결과값을 갖는 문자열을 만들어 'fruit_info' 변수에 할당한 후, 콘솔에 내용을 출력하시오."
   ]
  },
  {
   "cell_type": "code",
   "execution_count": 6,
   "metadata": {},
   "outputs": [
    {
     "name": "stdout",
     "output_type": "stream",
     "text": [
      "[0] RED: Apple\n",
      "[1] YELLOW: Banana\n",
      "[2] GREEN: Melon\n"
     ]
    }
   ],
   "source": [
    "fruit_dict = {\n",
    "    'red': 'apple',\n",
    "    'yellow': 'banana',\n",
    "    'green': 'melon',\n",
    "}\n",
    "\n",
    "def print_dict(fruit_dict):\n",
    "    fruit_info = []\n",
    "    for key, fruit in fruit_dict.items():\n",
    "        color = key.upper()\n",
    "        item = fruit.capitalize()\n",
    "        fruit_info.append([color, item])\n",
    "        \n",
    "    for index, item in enumerate(fruit_info):\n",
    "        print(f'[{index}] {item[0]}: {item[1]}')\n",
    "        \n",
    "print_dict(fruit_dict)"
   ]
  },
  {
   "cell_type": "markdown",
   "metadata": {},
   "source": [
    "### 3. list의 'copy()' 메서드가 하는 일과, 'copy()'를 사용하지 않았을 때 발생할 수 있는 오류에 대한 예제 코드를 작성하시오."
   ]
  },
  {
   "cell_type": "code",
   "execution_count": 10,
   "metadata": {},
   "outputs": [
    {
     "name": "stdout",
     "output_type": "stream",
     "text": [
      "['apple', 'banana', 'melon', 'strawberry']\n",
      "['apple', 'banana', 'melon', 'strawberry']\n",
      "['apple', 'banana', 'melon', 'strawberry']\n",
      "['apple', 'banana', 'melon']\n"
     ]
    }
   ],
   "source": [
    "# 우리는 단순히 원래 있는 값을 복사해서, 그 값을 원본 값과 다르게 사용하고 싶다\n",
    "# 그러나 단순히 'list2 = list1' 이런 식으로 사용할 경우 원본 값이 변경할 때\n",
    "# 복사된 값도 영향이 간다. 그 이유는 원본의 값을 복사하는 것이 아니라 원래 값이\n",
    "# 있는 메모리를 참조하기 때문에 생기는 일이다. 그래서 우리는 원본 값과 복사된 값을\n",
    "# 별개의 리스트로 사용하고 싶을 경우 copy() 함수를 사용할 수 있다.\n",
    "# list4 = list3.copy() 대신 list4 = list3[:] 사용할 수 있다.\n",
    "list1 = ['apple', 'banana', 'melon']\n",
    "list2 = list1\n",
    "\n",
    "list1.append('strawberry')\n",
    "\n",
    "print(list1)\n",
    "print(list2)\n",
    "\n",
    "list3 = ['apple', 'banana', 'melon']\n",
    "list4 = list3.copy()\n",
    "\n",
    "list3.append('strawberry')\n",
    "\n",
    "print(list3)\n",
    "print(list4)"
   ]
  },
  {
   "cell_type": "markdown",
   "metadata": {},
   "source": [
    "### 4. 1에서 30까지의 숫자 중, 3부터 시작해서 4번째마다의 숫자를 가지는 리스트를 생성하시오."
   ]
  },
  {
   "cell_type": "code",
   "execution_count": 13,
   "metadata": {},
   "outputs": [
    {
     "name": "stdout",
     "output_type": "stream",
     "text": [
      "[3, 7, 11, 15, 19, 23, 27]\n"
     ]
    }
   ],
   "source": [
    "list1 = []\n",
    "for num in range(3, 31, 4):\n",
    "    list1.append(num)\n",
    "print(list1)"
   ]
  },
  {
   "cell_type": "markdown",
   "metadata": {},
   "source": [
    "### 5. dict형 객체인 'obj'가 있다고 할 때, 'obj['key']' 와 'obj.get('key')'의 차이를 서술하시오."
   ]
  },
  {
   "cell_type": "markdown",
   "metadata": {},
   "source": [
    "### 6. 튜플 언팩킹에 대해 서술하고, 'poketmon_info'객체를 순회할 때 튜플 언패킹을 사용하는 예제 코드를 작성하시오"
   ]
  },
  {
   "cell_type": "code",
   "execution_count": 19,
   "metadata": {},
   "outputs": [
    {
     "name": "stdout",
     "output_type": "stream",
     "text": [
      "('피키츄', '전기 타입')\n"
     ]
    }
   ],
   "source": [
    "# 튜플 안에 들어있는 값을 변수로 다시 추출하는 것\n",
    "# 언팩킹할 경우 튜플 안의 데이터 수와 동일해야 할 것\n",
    "poketmon_info = [\n",
    "    ('피키츄', '전기 타입'),\n",
    "    ('파이리', '불 타입'),\n",
    "    ('꼬부기', '물 타입'),\n",
    "    ('이상해씨', '풀 타입'),\n",
    "]\n",
    "\n",
    "monster1, monster2, monster3, monster4 = poketmon_info\n",
    "print(monster1)"
   ]
  },
  {
   "cell_type": "markdown",
   "metadata": {},
   "source": [
    "### 7. 함수에서 위치인자와 키워드인자의 차이점에 대해 서술하시오."
   ]
  },
  {
   "cell_type": "code",
   "execution_count": 20,
   "metadata": {},
   "outputs": [],
   "source": [
    "# 위치인자는 매개변수의 순서대로 인자를 전달해 사용하는 것을 말한다.\n",
    "# 키워드인자는 매개변수의 이름을 지정해 인자로 전달하는 것을 말한다."
   ]
  },
  {
   "cell_type": "markdown",
   "metadata": {},
   "source": [
    "### 8. 클래스와 인스턴스의 다음 사항들에 대해 서술하시오.\n",
    "- 클래스와 인스턴스의 차이점\n",
    "\n",
    "---> 클래스는 객체(현실의)를 표현하기 위한 설계도라고 할 수 있으며 속성과 메서드로 이뤄져 있다. 인스턴스는 클래스를 통해 구체적으로 만들어진 대상이라 할 수 있으며 생성자 함수를 통해 만들어진다.\n",
    "\n",
    "- 클래스의 생성자 함수 이름\n",
    "\n",
    "---> def __init__(self, arg1, arg2, ...)\n",
    "\n",
    "- 클래스의 생성자 함수가 호출되는 시점은\n",
    "\n",
    "---> '클래스명()' 으로 호출될 때\n",
    "\n",
    "- 인스턴스 메서드의 'self' 매개변수의 의미\n",
    "\n",
    "---> 호출되는 인스턴스 자신을 의미한다."
   ]
  },
  {
   "cell_type": "markdown",
   "metadata": {},
   "source": [
    "### 9. 'property' 를 정의하는 바법에 대해 서술하시오.\n",
    "\n",
    "- 'getter'를 만드는 방법\n",
    "\n",
    "- 'setter'를 만드는 방법"
   ]
  },
  {
   "cell_type": "code",
   "execution_count": 30,
   "metadata": {},
   "outputs": [],
   "source": [
    "class User:\n",
    "    def __init__(self, name):\n",
    "        self.name = name\n",
    "        \n",
    "    @property\n",
    "    def get_name(self):\n",
    "        return self.name\n",
    "    \n",
    "    @get_name.setter\n",
    "    def set_name(self, new_name):\n",
    "        self.name = new_name"
   ]
  },
  {
   "cell_type": "code",
   "execution_count": 32,
   "metadata": {},
   "outputs": [
    {
     "data": {
      "text/plain": [
       "'아름'"
      ]
     },
     "execution_count": 32,
     "metadata": {},
     "output_type": "execute_result"
    }
   ],
   "source": [
    "u1 = User('주현')\n",
    "u1.get_name\n",
    "u1.set_name = '아름'\n",
    "u1.get_name"
   ]
  },
  {
   "cell_type": "markdown",
   "metadata": {},
   "source": [
    "### 10. 아래와 같은 'User'클래스가 있다. 이 클래스를 상속받은 'Student'클래스를 정의하고, 초기화 메서드에서 'name'과 함께 'age'라는 매개변수를 추가로 사용해 인스턴스의 'age' 속성을 추가로 정의하도록 한다."
   ]
  },
  {
   "cell_type": "code",
   "execution_count": null,
   "metadata": {},
   "outputs": [],
   "source": [
    "class User:\n",
    "    def __init__(self, name):\n",
    "        self.name = name\n",
    "    \n",
    "class Student(User):\n",
    "    def __init__(self, name, age):\n",
    "        super().__init__(name)\n",
    "        self.age = age"
   ]
  }
 ],
 "metadata": {
  "kernelspec": {
   "display_name": "Python 3",
   "language": "python",
   "name": "python3"
  },
  "language_info": {
   "codemirror_mode": {
    "name": "ipython",
    "version": 3
   },
   "file_extension": ".py",
   "mimetype": "text/x-python",
   "name": "python",
   "nbconvert_exporter": "python",
   "pygments_lexer": "ipython3",
   "version": "3.6.6"
  }
 },
 "nbformat": 4,
 "nbformat_minor": 2
}
